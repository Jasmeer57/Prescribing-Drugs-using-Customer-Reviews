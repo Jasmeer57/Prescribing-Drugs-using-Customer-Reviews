{
 "cells": [
  {
   "cell_type": "markdown",
   "metadata": {},
   "source": [
    "## Tabluation of results of all drugs that have been sold and account of each durg's effectiveness using Drug's Name, Popularity and use case of each drug"
   ]
  },
  {
   "cell_type": "code",
   "execution_count": 1,
   "metadata": {},
   "outputs": [],
   "source": [
    "import numpy as np\n",
    "import pandas as pd \n",
    "import matplotlib.pyplot as plt\n",
    "import string \n",
    "import seaborn as sns \n",
    "import ipywidgets \n",
    "from ipywidgets import interact\n"
   ]
  },
  {
   "cell_type": "code",
   "execution_count": 4,
   "metadata": {},
   "outputs": [
    {
     "name": "stdout",
     "output_type": "stream",
     "text": [
      "shape of dataset (161297, 7)\n"
     ]
    }
   ],
   "source": [
    "csv = pd.read_csv('drug.csv')\n",
    "print(\"shape of dataset\", csv.shape)"
   ]
  },
  {
   "cell_type": "code",
   "execution_count": 5,
   "metadata": {},
   "outputs": [
    {
     "data": {
      "text/html": [
       "<div>\n",
       "<style scoped>\n",
       "    .dataframe tbody tr th:only-of-type {\n",
       "        vertical-align: middle;\n",
       "    }\n",
       "\n",
       "    .dataframe tbody tr th {\n",
       "        vertical-align: top;\n",
       "    }\n",
       "\n",
       "    .dataframe thead th {\n",
       "        text-align: right;\n",
       "    }\n",
       "</style>\n",
       "<table border=\"1\" class=\"dataframe\">\n",
       "  <thead>\n",
       "    <tr style=\"text-align: right;\">\n",
       "      <th></th>\n",
       "      <th>uniqueID</th>\n",
       "      <th>drugName</th>\n",
       "      <th>condition</th>\n",
       "      <th>review</th>\n",
       "      <th>rating</th>\n",
       "      <th>date</th>\n",
       "      <th>usefulCount</th>\n",
       "    </tr>\n",
       "  </thead>\n",
       "  <tbody>\n",
       "    <tr>\n",
       "      <th>0</th>\n",
       "      <td>206461</td>\n",
       "      <td>Valsartan</td>\n",
       "      <td>Left Ventricular Dysfunction</td>\n",
       "      <td>\"It has no side effect, I take it in combinati...</td>\n",
       "      <td>9</td>\n",
       "      <td>20-May-12</td>\n",
       "      <td>27</td>\n",
       "    </tr>\n",
       "    <tr>\n",
       "      <th>1</th>\n",
       "      <td>95260</td>\n",
       "      <td>Guanfacine</td>\n",
       "      <td>ADHD</td>\n",
       "      <td>\"My son is halfway through his fourth week of ...</td>\n",
       "      <td>8</td>\n",
       "      <td>27-Apr-10</td>\n",
       "      <td>192</td>\n",
       "    </tr>\n",
       "    <tr>\n",
       "      <th>2</th>\n",
       "      <td>92703</td>\n",
       "      <td>Lybrel</td>\n",
       "      <td>Birth Control</td>\n",
       "      <td>\"I used to take another oral contraceptive, wh...</td>\n",
       "      <td>5</td>\n",
       "      <td>14-Dec-09</td>\n",
       "      <td>17</td>\n",
       "    </tr>\n",
       "    <tr>\n",
       "      <th>3</th>\n",
       "      <td>138000</td>\n",
       "      <td>Ortho Evra</td>\n",
       "      <td>Birth Control</td>\n",
       "      <td>\"This is my first time using any form of birth...</td>\n",
       "      <td>8</td>\n",
       "      <td>3-Nov-15</td>\n",
       "      <td>10</td>\n",
       "    </tr>\n",
       "    <tr>\n",
       "      <th>4</th>\n",
       "      <td>35696</td>\n",
       "      <td>Buprenorphine / naloxone</td>\n",
       "      <td>Opiate Dependence</td>\n",
       "      <td>\"Suboxone has completely turned my life around...</td>\n",
       "      <td>9</td>\n",
       "      <td>27-Nov-16</td>\n",
       "      <td>37</td>\n",
       "    </tr>\n",
       "  </tbody>\n",
       "</table>\n",
       "</div>"
      ],
      "text/plain": [
       "   uniqueID                  drugName                     condition  \\\n",
       "0    206461                 Valsartan  Left Ventricular Dysfunction   \n",
       "1     95260                Guanfacine                          ADHD   \n",
       "2     92703                    Lybrel                 Birth Control   \n",
       "3    138000                Ortho Evra                 Birth Control   \n",
       "4     35696  Buprenorphine / naloxone             Opiate Dependence   \n",
       "\n",
       "                                              review  rating       date  \\\n",
       "0  \"It has no side effect, I take it in combinati...       9  20-May-12   \n",
       "1  \"My son is halfway through his fourth week of ...       8  27-Apr-10   \n",
       "2  \"I used to take another oral contraceptive, wh...       5  14-Dec-09   \n",
       "3  \"This is my first time using any form of birth...       8   3-Nov-15   \n",
       "4  \"Suboxone has completely turned my life around...       9  27-Nov-16   \n",
       "\n",
       "   usefulCount  \n",
       "0           27  \n",
       "1          192  \n",
       "2           17  \n",
       "3           10  \n",
       "4           37  "
      ]
     },
     "execution_count": 5,
     "metadata": {},
     "output_type": "execute_result"
    }
   ],
   "source": [
    "csv.head()"
   ]
  },
  {
   "cell_type": "code",
   "execution_count": 6,
   "metadata": {},
   "outputs": [
    {
     "data": {
      "text/html": [
       "<div>\n",
       "<style scoped>\n",
       "    .dataframe tbody tr th:only-of-type {\n",
       "        vertical-align: middle;\n",
       "    }\n",
       "\n",
       "    .dataframe tbody tr th {\n",
       "        vertical-align: top;\n",
       "    }\n",
       "\n",
       "    .dataframe thead th {\n",
       "        text-align: right;\n",
       "    }\n",
       "</style>\n",
       "<table border=\"1\" class=\"dataframe\">\n",
       "  <thead>\n",
       "    <tr style=\"text-align: right;\">\n",
       "      <th></th>\n",
       "      <th>uniqueID</th>\n",
       "      <th>rating</th>\n",
       "      <th>usefulCount</th>\n",
       "    </tr>\n",
       "  </thead>\n",
       "  <tbody>\n",
       "    <tr>\n",
       "      <th>count</th>\n",
       "      <td>161297.000000</td>\n",
       "      <td>161297.000000</td>\n",
       "      <td>161297.000000</td>\n",
       "    </tr>\n",
       "    <tr>\n",
       "      <th>mean</th>\n",
       "      <td>115923.585305</td>\n",
       "      <td>6.994377</td>\n",
       "      <td>28.004755</td>\n",
       "    </tr>\n",
       "    <tr>\n",
       "      <th>std</th>\n",
       "      <td>67004.445170</td>\n",
       "      <td>3.272329</td>\n",
       "      <td>36.403742</td>\n",
       "    </tr>\n",
       "    <tr>\n",
       "      <th>min</th>\n",
       "      <td>2.000000</td>\n",
       "      <td>1.000000</td>\n",
       "      <td>0.000000</td>\n",
       "    </tr>\n",
       "    <tr>\n",
       "      <th>25%</th>\n",
       "      <td>58063.000000</td>\n",
       "      <td>5.000000</td>\n",
       "      <td>6.000000</td>\n",
       "    </tr>\n",
       "    <tr>\n",
       "      <th>50%</th>\n",
       "      <td>115744.000000</td>\n",
       "      <td>8.000000</td>\n",
       "      <td>16.000000</td>\n",
       "    </tr>\n",
       "    <tr>\n",
       "      <th>75%</th>\n",
       "      <td>173776.000000</td>\n",
       "      <td>10.000000</td>\n",
       "      <td>36.000000</td>\n",
       "    </tr>\n",
       "    <tr>\n",
       "      <th>max</th>\n",
       "      <td>232291.000000</td>\n",
       "      <td>10.000000</td>\n",
       "      <td>1291.000000</td>\n",
       "    </tr>\n",
       "  </tbody>\n",
       "</table>\n",
       "</div>"
      ],
      "text/plain": [
       "            uniqueID         rating    usefulCount\n",
       "count  161297.000000  161297.000000  161297.000000\n",
       "mean   115923.585305       6.994377      28.004755\n",
       "std     67004.445170       3.272329      36.403742\n",
       "min         2.000000       1.000000       0.000000\n",
       "25%     58063.000000       5.000000       6.000000\n",
       "50%    115744.000000       8.000000      16.000000\n",
       "75%    173776.000000      10.000000      36.000000\n",
       "max    232291.000000      10.000000    1291.000000"
      ]
     },
     "execution_count": 6,
     "metadata": {},
     "output_type": "execute_result"
    }
   ],
   "source": [
    "csv.describe()"
   ]
  },
  {
   "cell_type": "code",
   "execution_count": 13,
   "metadata": {},
   "outputs": [
    {
     "name": "stdout",
     "output_type": "stream",
     "text": [
      "Unique values =>  3436\n",
      "Unique medical condition =>  884\n",
      "Starting Date =>  9-Sep-17\n",
      "Ending Date =>  1-Apr-08\n"
     ]
    }
   ],
   "source": [
    "print(\"Unique values => \",csv.drugName.nunique())\n",
    "print(\"Unique medical condition => \",csv.condition.nunique())\n",
    "print(\"Starting Date => \",csv.date.max())\n",
    "print(\"Ending Date => \",csv.date.min())"
   ]
  },
  {
   "cell_type": "code",
   "execution_count": 20,
   "metadata": {},
   "outputs": [
    {
     "data": {
      "text/html": [
       "<div>\n",
       "<style scoped>\n",
       "    .dataframe tbody tr th:only-of-type {\n",
       "        vertical-align: middle;\n",
       "    }\n",
       "\n",
       "    .dataframe tbody tr th {\n",
       "        vertical-align: top;\n",
       "    }\n",
       "\n",
       "    .dataframe thead th {\n",
       "        text-align: right;\n",
       "    }\n",
       "</style>\n",
       "<table border=\"1\" class=\"dataframe\">\n",
       "  <thead>\n",
       "    <tr style=\"text-align: right;\">\n",
       "      <th></th>\n",
       "      <th>rating</th>\n",
       "      <th>usefulCount</th>\n",
       "    </tr>\n",
       "  </thead>\n",
       "  <tbody>\n",
       "    <tr>\n",
       "      <th>count</th>\n",
       "      <td>161297.000000</td>\n",
       "      <td>161297.000000</td>\n",
       "    </tr>\n",
       "    <tr>\n",
       "      <th>mean</th>\n",
       "      <td>6.994377</td>\n",
       "      <td>28.004755</td>\n",
       "    </tr>\n",
       "    <tr>\n",
       "      <th>std</th>\n",
       "      <td>3.272329</td>\n",
       "      <td>36.403742</td>\n",
       "    </tr>\n",
       "    <tr>\n",
       "      <th>min</th>\n",
       "      <td>1.000000</td>\n",
       "      <td>0.000000</td>\n",
       "    </tr>\n",
       "    <tr>\n",
       "      <th>25%</th>\n",
       "      <td>5.000000</td>\n",
       "      <td>6.000000</td>\n",
       "    </tr>\n",
       "    <tr>\n",
       "      <th>50%</th>\n",
       "      <td>8.000000</td>\n",
       "      <td>16.000000</td>\n",
       "    </tr>\n",
       "    <tr>\n",
       "      <th>75%</th>\n",
       "      <td>10.000000</td>\n",
       "      <td>36.000000</td>\n",
       "    </tr>\n",
       "    <tr>\n",
       "      <th>max</th>\n",
       "      <td>10.000000</td>\n",
       "      <td>1291.000000</td>\n",
       "    </tr>\n",
       "  </tbody>\n",
       "</table>\n",
       "</div>"
      ],
      "text/plain": [
       "              rating    usefulCount\n",
       "count  161297.000000  161297.000000\n",
       "mean        6.994377      28.004755\n",
       "std         3.272329      36.403742\n",
       "min         1.000000       0.000000\n",
       "25%         5.000000       6.000000\n",
       "50%         8.000000      16.000000\n",
       "75%        10.000000      36.000000\n",
       "max        10.000000    1291.000000"
      ]
     },
     "execution_count": 20,
     "metadata": {},
     "output_type": "execute_result"
    }
   ],
   "source": [
    "csv[[\"rating\",\"usefulCount\"]].describe()\n",
    "# Most of the reviews are positive"
   ]
  },
  {
   "cell_type": "code",
   "execution_count": 31,
   "metadata": {},
   "outputs": [
    {
     "name": "stdout",
     "output_type": "stream",
     "text": [
      "Analysis on Useless Drugs\n",
      "----------------------------\n",
      "The Number of Drugs with No Useful Count : 6318\n",
      "Number of Good Drugs with Lesser Useful Count : 0\n",
      "Average Rating of Drugs with No Useful Count : 5.80\n",
      "\n",
      "Analysis on Useful Drugs\n",
      "----------------------------\n",
      "The Number of Drugs with Greater than 1000 Useful Counts : 4\n",
      "Average Rating of Drugs with 1000+ Useful Counts : 10.0\n",
      "\n",
      "Name and Condition of these Drugs: \n",
      "\n",
      "          drugName      condition\n",
      "0          Mirena  Birth Control\n",
      "1      Sertraline     Depression\n",
      "2  Levonorgestrel  Birth Control\n",
      "3          Zoloft     Depression\n"
     ]
    }
   ],
   "source": [
    "# checking the Number and Name of the Drugs with 0 Useful Count in Details\n",
    "print(\"Analysis on Useless Drugs\")\n",
    "print(\"----------------------------\")\n",
    "print(\"The Number of Drugs with No Useful Count :\", csv[csv['usefulCount'] == 0].count()[0])\n",
    "\n",
    "# checking the Number of Drugs with No Usesful Count with Review Greater than or Equal to 8\n",
    "print(\"Number of Good Drugs with Lesser Useful Count :\", csv[(csv['usefulCount'] == 0) &\n",
    "                                                csv['rating'] >= 8].count()[0])\n",
    "\n",
    "# checking the Average Rating of the Drugs with No Useful Count\n",
    "print(\"Average Rating of Drugs with No Useful Count : {0:.2f}\".format(csv[csv['usefulCount'] == 0]['rating'].mean()))\n",
    "\n",
    "print(\"\\nAnalysis on Useful Drugs\")\n",
    "print(\"----------------------------\")\n",
    "print(\"The Number of Drugs with Greater than 1000 Useful Counts :\", csv[csv['usefulCount'] > 1000].count()[0])\n",
    "print(\"Average Rating of Drugs with 1000+ Useful Counts :\", csv[csv['usefulCount'] > 1000]['rating'].mean())\n",
    "print(\"\\nName and Condition of these Drugs: \\n\\n\", \n",
    "    csv[csv['usefulCount'] > 1000][['drugName','condition']].reset_index(drop = True))"
   ]
  },
  {
   "cell_type": "code",
   "execution_count": 44,
   "metadata": {},
   "outputs": [
    {
     "data": {
      "text/html": [
       "<div>\n",
       "<style scoped>\n",
       "    .dataframe tbody tr th:only-of-type {\n",
       "        vertical-align: middle;\n",
       "    }\n",
       "\n",
       "    .dataframe tbody tr th {\n",
       "        vertical-align: top;\n",
       "    }\n",
       "\n",
       "    .dataframe thead th {\n",
       "        text-align: right;\n",
       "    }\n",
       "</style>\n",
       "<table border=\"1\" class=\"dataframe\">\n",
       "  <thead>\n",
       "    <tr style=\"text-align: right;\">\n",
       "      <th></th>\n",
       "      <th>drugName</th>\n",
       "      <th>condition</th>\n",
       "      <th>review</th>\n",
       "    </tr>\n",
       "  </thead>\n",
       "  <tbody>\n",
       "    <tr>\n",
       "      <th>count</th>\n",
       "      <td>161297</td>\n",
       "      <td>160398</td>\n",
       "      <td>161297</td>\n",
       "    </tr>\n",
       "    <tr>\n",
       "      <th>unique</th>\n",
       "      <td>3436</td>\n",
       "      <td>884</td>\n",
       "      <td>112329</td>\n",
       "    </tr>\n",
       "    <tr>\n",
       "      <th>top</th>\n",
       "      <td>Levonorgestrel</td>\n",
       "      <td>Birth Control</td>\n",
       "      <td>\"Good\"</td>\n",
       "    </tr>\n",
       "    <tr>\n",
       "      <th>freq</th>\n",
       "      <td>3657</td>\n",
       "      <td>28788</td>\n",
       "      <td>33</td>\n",
       "    </tr>\n",
       "  </tbody>\n",
       "</table>\n",
       "</div>"
      ],
      "text/plain": [
       "              drugName      condition  review\n",
       "count           161297         160398  161297\n",
       "unique            3436            884  112329\n",
       "top     Levonorgestrel  Birth Control  \"Good\"\n",
       "freq              3657          28788      33"
      ]
     },
     "execution_count": 44,
     "metadata": {},
     "output_type": "execute_result"
    }
   ],
   "source": [
    "csv[['drugName','condition','review']].describe(include=object)"
   ]
  },
  {
   "cell_type": "code",
   "execution_count": 47,
   "metadata": {},
   "outputs": [],
   "source": [
    "csv.isnull().sum()\n",
    "csv.dropna(inplace = True)"
   ]
  },
  {
   "cell_type": "code",
   "execution_count": 51,
   "metadata": {},
   "outputs": [
    {
     "data": {
      "text/plain": [
       "0"
      ]
     },
     "execution_count": 51,
     "metadata": {},
     "output_type": "execute_result"
    }
   ],
   "source": [
    "csv.isnull().sum().sum()"
   ]
  },
  {
   "cell_type": "code",
   "execution_count": 56,
   "metadata": {},
   "outputs": [
    {
     "name": "stderr",
     "output_type": "stream",
     "text": [
      "C:\\Users\\jasme\\anaconda3\\lib\\site-packages\\seaborn\\distributions.py:2551: FutureWarning: `distplot` is a deprecated function and will be removed in a future version. Please adapt your code to use either `displot` (a figure-level function with similar flexibility) or `histplot` (an axes-level function for histograms).\n",
      "  warnings.warn(msg, FutureWarning)\n",
      "C:\\Users\\jasme\\anaconda3\\lib\\site-packages\\seaborn\\distributions.py:2551: FutureWarning: `distplot` is a deprecated function and will be removed in a future version. Please adapt your code to use either `displot` (a figure-level function with similar flexibility) or `histplot` (an axes-level function for histograms).\n",
      "  warnings.warn(msg, FutureWarning)\n"
     ]
    },
    {
     "data": {
      "image/png": "[encoded data removed]",
      "text/plain": [
       "<Figure size 1080x288 with 2 Axes>"
      ]
     },
     "metadata": {
      "needs_background": "light"
     },
     "output_type": "display_data"
    }
   ],
   "source": [
    "# lets check the Distribution of Rating and Useful Count\n",
    "\n",
    "plt.rcParams['figure.figsize'] = (15, 4)\n",
    "\n",
    "plt.subplot(1, 2, 1)\n",
    "sns.distplot(csv['rating'])\n",
    "\n",
    "plt.subplot(1, 2, 2)\n",
    "sns.distplot(csv['usefulCount'])\n",
    "\n",
    "plt.suptitle('Distribution of Rating and Useful Count \\n ', fontsize = 30)\n",
    "plt.show()"
   ]
  },
  {
   "cell_type": "code",
   "execution_count": 60,
   "metadata": {},
   "outputs": [
    {
     "name": "stderr",
     "output_type": "stream",
     "text": [
      "C:\\Users\\jasme\\anaconda3\\lib\\site-packages\\seaborn\\_decorators.py:36: FutureWarning: Pass the following variables as keyword args: x, y. From version 0.12, the only valid positional argument will be `data`, and passing other arguments without an explicit keyword will result in an error or misinterpretation.\n",
      "  warnings.warn(\n"
     ]
    },
    {
     "data": {
      "image/png": "[encoded data removed]",
      "text/plain": [
       "<Figure size 1080x288 with 1 Axes>"
      ]
     },
     "metadata": {
      "needs_background": "light"
     },
     "output_type": "display_data"
    }
   ],
   "source": [
    "# lets check the Impact of Ratings on Usefulness\n",
    "\n",
    "plt.rcParams['figure.figsize'] = (15, 4)\n",
    "sns.barplot(csv['rating'], csv['usefulCount'], palette = 'hot')\n",
    "plt.grid()\n",
    "plt.xlabel('\\n Ratings',fontsize = 20)\n",
    "plt.ylabel('Count\\n', fontsize = 20)\n",
    "plt.title('\\n Rating vs Usefulness \\n', fontsize = 30)\n",
    "plt.show()"
   ]
  },
  {
   "cell_type": "code",
   "execution_count": 62,
   "metadata": {},
   "outputs": [
    {
     "data": {
      "text/html": [
       "<div>\n",
       "<style scoped>\n",
       "    .dataframe tbody tr th:only-of-type {\n",
       "        vertical-align: middle;\n",
       "    }\n",
       "\n",
       "    .dataframe tbody tr th {\n",
       "        vertical-align: top;\n",
       "    }\n",
       "\n",
       "    .dataframe thead tr th {\n",
       "        text-align: left;\n",
       "    }\n",
       "\n",
       "    .dataframe thead tr:last-of-type th {\n",
       "        text-align: right;\n",
       "    }\n",
       "</style>\n",
       "<table border=\"1\" class=\"dataframe\">\n",
       "  <thead>\n",
       "    <tr>\n",
       "      <th></th>\n",
       "      <th colspan=\"3\" halign=\"left\">len</th>\n",
       "    </tr>\n",
       "    <tr>\n",
       "      <th></th>\n",
       "      <th>min</th>\n",
       "      <th>mean</th>\n",
       "      <th>max</th>\n",
       "    </tr>\n",
       "    <tr>\n",
       "      <th>rating</th>\n",
       "      <th></th>\n",
       "      <th></th>\n",
       "      <th></th>\n",
       "    </tr>\n",
       "  </thead>\n",
       "  <tbody>\n",
       "    <tr>\n",
       "      <th>1</th>\n",
       "      <td>5</td>\n",
       "      <td>428.784505</td>\n",
       "      <td>3692</td>\n",
       "    </tr>\n",
       "    <tr>\n",
       "      <th>2</th>\n",
       "      <td>9</td>\n",
       "      <td>452.902893</td>\n",
       "      <td>10787</td>\n",
       "    </tr>\n",
       "    <tr>\n",
       "      <th>3</th>\n",
       "      <td>8</td>\n",
       "      <td>461.249961</td>\n",
       "      <td>5112</td>\n",
       "    </tr>\n",
       "    <tr>\n",
       "      <th>4</th>\n",
       "      <td>7</td>\n",
       "      <td>464.077912</td>\n",
       "      <td>3030</td>\n",
       "    </tr>\n",
       "    <tr>\n",
       "      <th>5</th>\n",
       "      <td>6</td>\n",
       "      <td>477.982661</td>\n",
       "      <td>2048</td>\n",
       "    </tr>\n",
       "    <tr>\n",
       "      <th>6</th>\n",
       "      <td>4</td>\n",
       "      <td>467.957150</td>\n",
       "      <td>2202</td>\n",
       "    </tr>\n",
       "    <tr>\n",
       "      <th>7</th>\n",
       "      <td>6</td>\n",
       "      <td>485.597765</td>\n",
       "      <td>3063</td>\n",
       "    </tr>\n",
       "    <tr>\n",
       "      <th>8</th>\n",
       "      <td>3</td>\n",
       "      <td>483.584163</td>\n",
       "      <td>4087</td>\n",
       "    </tr>\n",
       "    <tr>\n",
       "      <th>9</th>\n",
       "      <td>3</td>\n",
       "      <td>477.696117</td>\n",
       "      <td>6182</td>\n",
       "    </tr>\n",
       "    <tr>\n",
       "      <th>10</th>\n",
       "      <td>3</td>\n",
       "      <td>443.215923</td>\n",
       "      <td>6192</td>\n",
       "    </tr>\n",
       "  </tbody>\n",
       "</table>\n",
       "</div>"
      ],
      "text/plain": [
       "       len                   \n",
       "       min        mean    max\n",
       "rating                       \n",
       "1        5  428.784505   3692\n",
       "2        9  452.902893  10787\n",
       "3        8  461.249961   5112\n",
       "4        7  464.077912   3030\n",
       "5        6  477.982661   2048\n",
       "6        4  467.957150   2202\n",
       "7        6  485.597765   3063\n",
       "8        3  483.584163   4087\n",
       "9        3  477.696117   6182\n",
       "10       3  443.215923   6192"
      ]
     },
     "execution_count": 62,
     "metadata": {},
     "output_type": "execute_result"
    }
   ],
   "source": [
    "# Checking whether Length of Review has any Impact on Ratings of the Drugs\n",
    "\n",
    "# for that we need to create a new column to calculate length of the reviews\n",
    "csv['len']  = csv['review'].apply(len)\n",
    "\n",
    "\n",
    "# lets check the Impact of Length of Reviews on Ratings\n",
    "csv[['rating','len']].groupby(['rating']).agg(['min','mean','max'])"
   ]
  },
  {
   "cell_type": "code",
   "execution_count": 77,
   "metadata": {},
   "outputs": [
    {
     "name": "stderr",
     "output_type": "stream",
     "text": [
      "[nltk_data] Downloading package stopwords to\n",
      "[nltk_data]     C:\\Users\\jasme\\AppData\\Roaming\\nltk_data...\n",
      "[nltk_data]   Package stopwords is already up-to-date!\n",
      "[nltk_data] Downloading package punkt to\n",
      "[nltk_data]     C:\\Users\\jasme\\AppData\\Roaming\\nltk_data...\n",
      "[nltk_data]   Unzipping tokenizers\\punkt.zip.\n"
     ]
    },
    {
     "data": {
      "text/plain": [
       "True"
      ]
     },
     "execution_count": 77,
     "metadata": {},
     "output_type": "execute_result"
    }
   ],
   "source": [
    "import nltk\n",
    "nltk.download('stopwords')\n",
    "nltk.download('punkt')"
   ]
  },
  {
   "cell_type": "code",
   "execution_count": 82,
   "metadata": {},
   "outputs": [],
   "source": [
    "# as it is clear that the reviews have so many unnecassry things such as Stopwords, Punctuations, numbers etc\n",
    "\n",
    "# First lets remove Punctuations from the Reviews\n",
    "def punctuation_removal(messy_str):\n",
    "    clean_list = [char for char in messy_str if char not in string.punctuation]\n",
    "    clean_str = ''.join(clean_list)\n",
    "    return clean_str\n",
    "\n",
    "csv['review'] = csv['review'].apply(punctuation_removal)\n",
    "\n",
    "# Removing the Stopwords also\n",
    "\n",
    "from nltk.corpus import stopwords\n",
    "from nltk.tokenize import word_tokenize\n",
    "\n",
    "stop = stopwords.words('english')\n",
    "stop.append(\"i'm\")\n",
    "\n",
    "stop_words = []\n",
    "\n",
    "for item in stop: \n",
    "    new_item = punctuation_removal(item)\n",
    "    stop_words.append(new_item) \n",
    "\n",
    "def stopwords_removal(messy_str):\n",
    "    messy_str = word_tokenize(messy_str)\n",
    "    return [word.lower() for word in messy_str \n",
    "            if word.lower() not in stop_words ]\n",
    "\n",
    "csv['review'] = csv['review'].apply(stopwords_removal)"
   ]
  },
  {
   "cell_type": "code",
   "execution_count": 86,
   "metadata": {},
   "outputs": [],
   "source": [
    "# removing Numbers also\n",
    "\n",
    "import re\n",
    "def drop_numbers(list_text):\n",
    "    list_text_new = []\n",
    "    for i in list_text:\n",
    "        if not re.search('\\d', i):\n",
    "            list_text_new.append(i)\n",
    "    return ' '.join(list_text_new)\n",
    "\n",
    "csv['review'] = csv['review'].apply(drop_numbers)"
   ]
  },
  {
   "cell_type": "markdown",
   "metadata": {},
   "source": [
    "## Sentimental Analysis"
   ]
  },
  {
   "cell_type": "code",
   "execution_count": 87,
   "metadata": {},
   "outputs": [
    {
     "name": "stderr",
     "output_type": "stream",
     "text": [
      "[nltk_data] Downloading package vader_lexicon to\n",
      "[nltk_data]     C:\\Users\\jasme\\AppData\\Roaming\\nltk_data...\n"
     ]
    },
    {
     "data": {
      "text/plain": [
       "True"
      ]
     },
     "execution_count": 87,
     "metadata": {},
     "output_type": "execute_result"
    }
   ],
   "source": [
    "# for using Sentiment Analyzer we will have to dowload the Vader Lexicon from NLTK\n",
    "\n",
    "import nltk\n",
    "nltk.download('vader_lexicon')"
   ]
  },
  {
   "cell_type": "code",
   "execution_count": 88,
   "metadata": {},
   "outputs": [],
   "source": [
    "# lets calculate the Sentiment from Reviews\n",
    "\n",
    "from nltk.sentiment.vader import SentimentIntensityAnalyzer\n",
    "sid = SentimentIntensityAnalyzer()\n",
    "\n",
    "train_sentiments = []\n",
    "\n",
    "for i in csv['review']:\n",
    "    train_sentiments.append(sid.polarity_scores(i).get('compound'))\n",
    "    \n",
    "train_sentiments = np.asarray(train_sentiments)\n",
    "csv['sentiment'] = pd.Series(data=train_sentiments)"
   ]
  },
  {
   "cell_type": "code",
   "execution_count": 90,
   "metadata": {},
   "outputs": [
    {
     "data": {
      "text/html": [
       "<div>\n",
       "<style scoped>\n",
       "    .dataframe tbody tr th:only-of-type {\n",
       "        vertical-align: middle;\n",
       "    }\n",
       "\n",
       "    .dataframe tbody tr th {\n",
       "        vertical-align: top;\n",
       "    }\n",
       "\n",
       "    .dataframe thead tr th {\n",
       "        text-align: left;\n",
       "    }\n",
       "\n",
       "    .dataframe thead tr:last-of-type th {\n",
       "        text-align: right;\n",
       "    }\n",
       "</style>\n",
       "<table border=\"1\" class=\"dataframe\">\n",
       "  <thead>\n",
       "    <tr>\n",
       "      <th></th>\n",
       "      <th colspan=\"3\" halign=\"left\">sentiment</th>\n",
       "    </tr>\n",
       "    <tr>\n",
       "      <th></th>\n",
       "      <th>min</th>\n",
       "      <th>mean</th>\n",
       "      <th>max</th>\n",
       "    </tr>\n",
       "    <tr>\n",
       "      <th>rating</th>\n",
       "      <th></th>\n",
       "      <th></th>\n",
       "      <th></th>\n",
       "    </tr>\n",
       "  </thead>\n",
       "  <tbody>\n",
       "    <tr>\n",
       "      <th>1</th>\n",
       "      <td>-0.6486</td>\n",
       "      <td>0.001019</td>\n",
       "      <td>0.6369</td>\n",
       "    </tr>\n",
       "    <tr>\n",
       "      <th>2</th>\n",
       "      <td>-0.5423</td>\n",
       "      <td>0.000796</td>\n",
       "      <td>0.6369</td>\n",
       "    </tr>\n",
       "    <tr>\n",
       "      <th>3</th>\n",
       "      <td>-0.6369</td>\n",
       "      <td>0.000436</td>\n",
       "      <td>0.6249</td>\n",
       "    </tr>\n",
       "    <tr>\n",
       "      <th>4</th>\n",
       "      <td>0.0000</td>\n",
       "      <td>0.001576</td>\n",
       "      <td>0.6369</td>\n",
       "    </tr>\n",
       "    <tr>\n",
       "      <th>5</th>\n",
       "      <td>-0.5423</td>\n",
       "      <td>0.000802</td>\n",
       "      <td>0.6249</td>\n",
       "    </tr>\n",
       "    <tr>\n",
       "      <th>6</th>\n",
       "      <td>0.0000</td>\n",
       "      <td>0.001016</td>\n",
       "      <td>0.6369</td>\n",
       "    </tr>\n",
       "    <tr>\n",
       "      <th>7</th>\n",
       "      <td>-0.5423</td>\n",
       "      <td>0.000973</td>\n",
       "      <td>0.6369</td>\n",
       "    </tr>\n",
       "    <tr>\n",
       "      <th>8</th>\n",
       "      <td>-0.4404</td>\n",
       "      <td>0.000921</td>\n",
       "      <td>0.6369</td>\n",
       "    </tr>\n",
       "    <tr>\n",
       "      <th>9</th>\n",
       "      <td>-0.6597</td>\n",
       "      <td>0.000966</td>\n",
       "      <td>0.6369</td>\n",
       "    </tr>\n",
       "    <tr>\n",
       "      <th>10</th>\n",
       "      <td>-0.6486</td>\n",
       "      <td>0.001085</td>\n",
       "      <td>0.6369</td>\n",
       "    </tr>\n",
       "  </tbody>\n",
       "</table>\n",
       "</div>"
      ],
      "text/plain": [
       "       sentiment                  \n",
       "             min      mean     max\n",
       "rating                            \n",
       "1        -0.6486  0.001019  0.6369\n",
       "2        -0.5423  0.000796  0.6369\n",
       "3        -0.6369  0.000436  0.6249\n",
       "4         0.0000  0.001576  0.6369\n",
       "5        -0.5423  0.000802  0.6249\n",
       "6         0.0000  0.001016  0.6369\n",
       "7        -0.5423  0.000973  0.6369\n",
       "8        -0.4404  0.000921  0.6369\n",
       "9        -0.6597  0.000966  0.6369\n",
       "10       -0.6486  0.001085  0.6369"
      ]
     },
     "execution_count": 90,
     "metadata": {},
     "output_type": "execute_result"
    }
   ],
   "source": [
    "# Sentiment on Reviews\n",
    "csv[['rating','sentiment']].groupby(['rating']).agg(['min','mean','max'])"
   ]
  },
  {
   "cell_type": "code",
   "execution_count": 91,
   "metadata": {},
   "outputs": [
    {
     "data": {
      "text/plain": [
       "Index(['drugName', 'condition', 'rating', 'usefulCount'], dtype='object')"
      ]
     },
     "execution_count": 91,
     "metadata": {},
     "output_type": "execute_result"
    }
   ],
   "source": [
    "# as we can see that Sentiment and length of the review are not related to Reviews, we will drop the sentiment column\n",
    "\n",
    "# Removing the unique Id, date, review, len, and sentiment column also\n",
    "csv = csv.drop(['date','uniqueID','sentiment','review','len'], axis = 1)\n",
    "\n",
    "# lets check the name of columns now\n",
    "csv.columns"
   ]
  },
  {
   "cell_type": "code",
   "execution_count": 92,
   "metadata": {},
   "outputs": [],
   "source": [
    "# Lets Calculate an Effective Rating\n",
    "\n",
    "\n",
    "min_rating = csv['rating'].min()\n",
    "max_rating = csv['rating'].max()\n",
    "\n",
    "def scale_rating(rating):\n",
    "    rating -= min_rating\n",
    "    rating = rating/(max_rating -2)\n",
    "    rating *= 5\n",
    "    rating = int(round(rating,0))\n",
    "    \n",
    "    if(int(rating) == 0 or int(rating)==1 or int(rating)==2):\n",
    "        return 0\n",
    "    else:\n",
    "        return 1\n",
    "    \n",
    "csv['eff_score'] = csv['rating'].apply(scale_rating)"
   ]
  },
  {
   "cell_type": "code",
   "execution_count": 93,
   "metadata": {},
   "outputs": [
    {
     "data": {
      "text/html": [
       "<div>\n",
       "<style scoped>\n",
       "    .dataframe tbody tr th:only-of-type {\n",
       "        vertical-align: middle;\n",
       "    }\n",
       "\n",
       "    .dataframe tbody tr th {\n",
       "        vertical-align: top;\n",
       "    }\n",
       "\n",
       "    .dataframe thead th {\n",
       "        text-align: right;\n",
       "    }\n",
       "</style>\n",
       "<table border=\"1\" class=\"dataframe\">\n",
       "  <thead>\n",
       "    <tr style=\"text-align: right;\">\n",
       "      <th></th>\n",
       "      <th>drugName</th>\n",
       "      <th>condition</th>\n",
       "      <th>usefulness</th>\n",
       "    </tr>\n",
       "  </thead>\n",
       "  <tbody>\n",
       "    <tr>\n",
       "      <th>0</th>\n",
       "      <td>Sertraline</td>\n",
       "      <td>Depression</td>\n",
       "      <td>12910</td>\n",
       "    </tr>\n",
       "    <tr>\n",
       "      <th>1</th>\n",
       "      <td>Zoloft</td>\n",
       "      <td>Depression</td>\n",
       "      <td>12910</td>\n",
       "    </tr>\n",
       "    <tr>\n",
       "      <th>2</th>\n",
       "      <td>Levonorgestrel</td>\n",
       "      <td>Birth Control</td>\n",
       "      <td>12470</td>\n",
       "    </tr>\n",
       "    <tr>\n",
       "      <th>3</th>\n",
       "      <td>Mirena</td>\n",
       "      <td>Birth Control</td>\n",
       "      <td>12470</td>\n",
       "    </tr>\n",
       "    <tr>\n",
       "      <th>4</th>\n",
       "      <td>Zoloft</td>\n",
       "      <td>Depression</td>\n",
       "      <td>8541</td>\n",
       "    </tr>\n",
       "    <tr>\n",
       "      <th>5</th>\n",
       "      <td>Phentermine</td>\n",
       "      <td>Weight Loss</td>\n",
       "      <td>7960</td>\n",
       "    </tr>\n",
       "    <tr>\n",
       "      <th>6</th>\n",
       "      <td>Adipex-P</td>\n",
       "      <td>Weight Loss</td>\n",
       "      <td>7960</td>\n",
       "    </tr>\n",
       "    <tr>\n",
       "      <th>7</th>\n",
       "      <td>Implanon</td>\n",
       "      <td>Birth Control</td>\n",
       "      <td>7300</td>\n",
       "    </tr>\n",
       "    <tr>\n",
       "      <th>8</th>\n",
       "      <td>Viibryd</td>\n",
       "      <td>Depression</td>\n",
       "      <td>6930</td>\n",
       "    </tr>\n",
       "    <tr>\n",
       "      <th>9</th>\n",
       "      <td>Vilazodone</td>\n",
       "      <td>Depression</td>\n",
       "      <td>6930</td>\n",
       "    </tr>\n",
       "  </tbody>\n",
       "</table>\n",
       "</div>"
      ],
      "text/plain": [
       "         drugName      condition  usefulness\n",
       "0      Sertraline     Depression       12910\n",
       "1          Zoloft     Depression       12910\n",
       "2  Levonorgestrel  Birth Control       12470\n",
       "3          Mirena  Birth Control       12470\n",
       "4          Zoloft     Depression        8541\n",
       "5     Phentermine    Weight Loss        7960\n",
       "6        Adipex-P    Weight Loss        7960\n",
       "7        Implanon  Birth Control        7300\n",
       "8         Viibryd     Depression        6930\n",
       "9      Vilazodone     Depression        6930"
      ]
     },
     "execution_count": 93,
     "metadata": {},
     "output_type": "execute_result"
    }
   ],
   "source": [
    "# Calculating Usefulness Score\n",
    "\n",
    "csv['usefulness'] = csv['rating']*csv['usefulCount']*csv['eff_score']\n",
    "\n",
    "# Checking the Top 10 Most Useful Drugs with their Respective Conditions\n",
    "csv[['drugName','condition','usefulness']][csv['usefulness'] > \n",
    "                            csv['usefulness'].mean()].sort_values(by = 'usefulness', \n",
    "                                        ascending = False).head(10).reset_index(drop = True)"
   ]
  },
  {
   "cell_type": "code",
   "execution_count": 100,
   "metadata": {},
   "outputs": [
    {
     "data": {
      "application/vnd.jupyter.widget-view+json": {
       "model_id": "1f8c436f56b84e86a0ed7f614af94c0a",
       "version_major": 2,
       "version_minor": 0
      },
      "text/plain": [
       "interactive(children=(Dropdown(description='condition', options=('Birth Control', 'Depression', 'Pain', 'Anxie…"
      ]
     },
     "metadata": {},
     "output_type": "display_data"
    }
   ],
   "source": [
    "# Calculating the Number of Useless and Useful Drugs for Each Condition\n",
    "\n",
    "@interact\n",
    "def check(condition = list(csv['condition'].value_counts().index)):\n",
    "    return csv[csv['condition'] == condition]['eff_score'].value_counts()"
   ]
  },
  {
   "cell_type": "code",
   "execution_count": 109,
   "metadata": {},
   "outputs": [
    {
     "data": {
      "image/png": "[encoded data removed]",
      "text/plain": [
       "<Figure size 1080x288 with 1 Axes>"
      ]
     },
     "metadata": {
      "needs_background": "light"
     },
     "output_type": "display_data"
    }
   ],
   "source": [
    "# lets check this in Graph, \n",
    "\n",
    "popular_conditions = ('Birth Control','Depression','Pain','Anxiety','Acne','Bipolar Disorde','Insomnia','Weight Loss',\n",
    "                      'Obesity','ADHD', 'Diabetes, Type 2', 'Emergency Contraception', 'High Blood Pressure','Migrane','Constipation','Anxiety and Stress')\n",
    "conditions = csv.loc[csv['condition'].isin(popular_conditions)]\n",
    "\n",
    "sns.barplot(x = conditions['condition'], y = conditions['rating'], hue = csv['eff_score'], \n",
    "     palette = 'autumn')\n",
    "plt.title('Conditions vs Effective Number of Drugs')\n",
    "plt.xticks(rotation = 90)\n",
    "plt.ylabel(' ')\n",
    "plt.show()"
   ]
  },
  {
   "cell_type": "code",
   "execution_count": 111,
   "metadata": {},
   "outputs": [
    {
     "name": "stdout",
     "output_type": "stream",
     "text": [
      "Number of Unique Conditions : 884\n"
     ]
    },
    {
     "data": {
      "text/plain": [
       "Birth Control    28788\n",
       "Depression        9069\n",
       "Pain              6145\n",
       "Anxiety           5904\n",
       "Acne              5588\n",
       "Name: condition, dtype: int64"
      ]
     },
     "execution_count": 111,
     "metadata": {},
     "output_type": "execute_result"
    }
   ],
   "source": [
    "# lets check the Most Common Conditions\n",
    "\n",
    "print(\"Number of Unique Conditions :\", csv['condition'].nunique())\n",
    "csv['condition'].value_counts().head()"
   ]
  },
  {
   "cell_type": "code",
   "execution_count": 113,
   "metadata": {},
   "outputs": [
    {
     "data": {
      "text/html": [
       "<div>\n",
       "<style scoped>\n",
       "    .dataframe tbody tr th:only-of-type {\n",
       "        vertical-align: middle;\n",
       "    }\n",
       "\n",
       "    .dataframe tbody tr th {\n",
       "        vertical-align: top;\n",
       "    }\n",
       "\n",
       "    .dataframe thead th {\n",
       "        text-align: right;\n",
       "    }\n",
       "</style>\n",
       "<table border=\"1\" class=\"dataframe\">\n",
       "  <thead>\n",
       "    <tr style=\"text-align: right;\">\n",
       "      <th></th>\n",
       "      <th>drugName</th>\n",
       "      <th>usefulCount</th>\n",
       "    </tr>\n",
       "  </thead>\n",
       "  <tbody>\n",
       "    <tr>\n",
       "      <th>0</th>\n",
       "      <td>Zoloft</td>\n",
       "      <td>1291</td>\n",
       "    </tr>\n",
       "    <tr>\n",
       "      <th>1</th>\n",
       "      <td>Sertraline</td>\n",
       "      <td>1291</td>\n",
       "    </tr>\n",
       "    <tr>\n",
       "      <th>2</th>\n",
       "      <td>Levonorgestrel</td>\n",
       "      <td>1247</td>\n",
       "    </tr>\n",
       "    <tr>\n",
       "      <th>3</th>\n",
       "      <td>Mirena</td>\n",
       "      <td>1247</td>\n",
       "    </tr>\n",
       "    <tr>\n",
       "      <th>4</th>\n",
       "      <td>Zoloft</td>\n",
       "      <td>949</td>\n",
       "    </tr>\n",
       "  </tbody>\n",
       "</table>\n",
       "</div>"
      ],
      "text/plain": [
       "         drugName  usefulCount\n",
       "0          Zoloft         1291\n",
       "1      Sertraline         1291\n",
       "2  Levonorgestrel         1247\n",
       "3          Mirena         1247\n",
       "4          Zoloft          949"
      ]
     },
     "execution_count": 113,
     "metadata": {},
     "output_type": "execute_result"
    }
   ],
   "source": [
    "# lets check Drugs, which were useful to Highest Number of Poeple\n",
    "csv[['drugName','usefulCount']][csv['usefulCount'] >\n",
    "                    csv['usefulCount'].mean()].sort_values(by = 'usefulCount',\n",
    "                                        ascending = False).head().reset_index(drop = True)"
   ]
  },
  {
   "cell_type": "code",
   "execution_count": 120,
   "metadata": {},
   "outputs": [],
   "source": [
    "# Dropping Duplicates\n",
    "csv = csv.drop_duplicates()"
   ]
  },
  {
   "cell_type": "code",
   "execution_count": 121,
   "metadata": {},
   "outputs": [
    {
     "data": {
      "application/vnd.jupyter.widget-view+json": {
       "model_id": "ac685680b07a4e7c85e1705ac0f9f565",
       "version_major": 2,
       "version_minor": 0
      },
      "text/plain": [
       "interactive(children=(Dropdown(description='condition', options=('Birth Control', 'Depression', 'Pain', 'Anxie…"
      ]
     },
     "metadata": {},
     "output_type": "display_data"
    }
   ],
   "source": [
    "# lets find the Highest and Lowest Rated Drugs for each Condition\n",
    "\n",
    "@interact\n",
    "def high_low_rate(condition = list(csv['condition'].value_counts().index)):\n",
    "    print(\"\\n Top 5 Drugs\")\n",
    "    print(csv[csv['condition'] == condition][['drugName','usefulness']].sort_values(by = 'usefulness',\n",
    "                                                 ascending = False).head().reset_index(drop = True))\n",
    "    print(\"\\n\\n Bottom 5 Drugs\")\n",
    "    print(csv[csv['condition'] == condition][['drugName','usefulness']].sort_values(by = 'usefulness',\n",
    "                                                 ascending = True).head().reset_index(drop = True))"
   ]
  },
  {
   "cell_type": "code",
   "execution_count": null,
   "metadata": {},
   "outputs": [],
   "source": []
  }
 ],
 "metadata": {
  "kernelspec": {
   "display_name": "Python 3",
   "language": "python",
   "name": "python3"
  },
  "language_info": {
   "codemirror_mode": {
    "name": "ipython",
    "version": 3
   },
   "file_extension": ".py",
   "mimetype": "text/x-python",
   "name": "python",
   "nbconvert_exporter": "python",
   "pygments_lexer": "ipython3",
   "version": "3.8.5"
  }
 },
 "nbformat": 4,
 "nbformat_minor": 4
}
